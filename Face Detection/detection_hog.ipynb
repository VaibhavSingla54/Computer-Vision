{
 "cells": [
  {
   "cell_type": "code",
   "execution_count": 45,
   "metadata": {},
   "outputs": [],
   "source": [
    "import numpy as np\n",
    "import dlib \n",
    "import cv2"
   ]
  },
  {
   "cell_type": "code",
   "execution_count": 46,
   "metadata": {},
   "outputs": [
    {
     "name": "stdout",
     "output_type": "stream",
     "text": [
      "(294, 626, 3)\n"
     ]
    }
   ],
   "source": [
    "image= cv2.imread('people3.jpg')\n",
    "print(image.shape)\n",
    "# cv2.imshow('Image', image)\n",
    "# cv2.waitKey(0)\n",
    "# cv2.destroyAllWindows()"
   ]
  },
  {
   "cell_type": "code",
   "execution_count": 47,
   "metadata": {},
   "outputs": [
    {
     "data": {
      "text/plain": [
       "rectangles[[(438, 100) (451, 113)], [(505, 89) (518, 103)], [(47, 88) (60, 101)], [(299, 92) (312, 106)], [(182, 95) (196, 109)]]"
      ]
     },
     "execution_count": 47,
     "metadata": {},
     "output_type": "execute_result"
    }
   ],
   "source": [
    "face_detector_hog= dlib.get_frontal_face_detector()\n",
    "detections= face_detector_hog(image, 4)\n",
    "detections"
   ]
  },
  {
   "cell_type": "code",
   "execution_count": 48,
   "metadata": {},
   "outputs": [],
   "source": [
    "for face in detections:\n",
    "    # print(face.left())\n",
    "    # print(face.top())\n",
    "    # print(face.right())\n",
    "    # print(face.bottom())\n",
    "    l,t,r,b= face.left(), face.top(), face.right(),  face.bottom()\n",
    "    cv2.rectangle(image, (l,t), (r,b), (0,255,255), 2)"
   ]
  },
  {
   "cell_type": "code",
   "execution_count": 49,
   "metadata": {},
   "outputs": [],
   "source": [
    "cv2.imshow('Image', image)\n",
    "cv2.waitKey(0)\n",
    "cv2.destroyAllWindows()"
   ]
  }
 ],
 "metadata": {
  "kernelspec": {
   "display_name": "Python 3",
   "language": "python",
   "name": "python3"
  },
  "language_info": {
   "codemirror_mode": {
    "name": "ipython",
    "version": 3
   },
   "file_extension": ".py",
   "mimetype": "text/x-python",
   "name": "python",
   "nbconvert_exporter": "python",
   "pygments_lexer": "ipython3",
   "version": "3.11.3"
  },
  "orig_nbformat": 4
 },
 "nbformat": 4,
 "nbformat_minor": 2
}
